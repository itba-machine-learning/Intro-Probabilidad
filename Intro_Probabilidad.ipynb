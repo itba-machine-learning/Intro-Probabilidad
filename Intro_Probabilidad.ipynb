{
 "cells": [
  {
   "cell_type": "markdown",
   "metadata": {},
   "source": [
    "# Antes de empezar:\n",
    "- git pull\n",
    "\n",
    "Entorno de trabajo minimo:\n",
    "- conda env create -f mllab.yml\n",
    "- mllab.yml es un archivo que contiene el listado de paquetes para instalar\n",
    "- fue generado con el comando:\n",
    "conda env export > mllab.yml\n",
    "- Ejecutar: source activate mllab"
   ]
  },
  {
   "cell_type": "markdown",
   "metadata": {},
   "source": [
    "# Aplicaciones:\n",
    "* Localización (Filtros de Histogramas) [Ver Notebook](./Localizacion.ipynb)\n",
    "* Clasificacion (Naive Bayes) [Ver Notebook](./Naive_Bayes.ipynb)\n",
    "    * Document classification\n",
    "    * Detección de SPAM\n",
    "    * Detectar autor"
   ]
  },
  {
   "cell_type": "markdown",
   "metadata": {},
   "source": [
    "# Técnicas\n",
    "* Filtros de histogramas (Histogram Filters)\n",
    "* Naive Bayes"
   ]
  },
  {
   "cell_type": "markdown",
   "metadata": {},
   "source": [
    "# Background teórico necesario\n",
    "* Probabilidad conjunta, condicional, marginal\n",
    "* Teorema de Bayes\n",
    "* Función de masa de probabilidad y distribución de probabilidad\n",
    "* Independencia\n",
    "* Variables Aleatorias Gaussianas"
   ]
  },
  {
   "cell_type": "markdown",
   "metadata": {},
   "source": [
    "# Herramientas\n",
    "* Listas y diccionarios en **Python**\n",
    "* Operaciones con arreglos en **Numpy**\n",
    "* **Sklearn**: Vectorizers y NB\n",
    "* Sparse matrices\n",
    "* T-SNE"
   ]
  },
  {
   "cell_type": "markdown",
   "metadata": {},
   "source": [
    "# Referencias:\n",
    "- Localización: https://classroom.udacity.com/courses/cs373/lessons/48739381/concepts/487122860923\n",
    "- Naive Bayes: https://classroom.udacity.com/courses/ud120/lessons/2254358555/concepts/30076485360923\n",
    "- sklearn Naive Bayes: http://scikit-learn.org/stable/modules/naive_bayes.html#gaussian-naive-bayes\n",
    "- Numpy: https://docs.scipy.org/doc/numpy/index.html"
   ]
  },
  {
   "cell_type": "markdown",
   "metadata": {},
   "source": [
    "# Ejemplo Dados:\n",
    "D1 = Resultado de lanzar dado 1\n",
    "\n",
    "D2 = Resultado de lanzar dado 2\n",
    "\n",
    "S = D1 + D2\n",
    "\n",
    "R = |D1 - D2|\n",
    "\n",
    "S y R son variables aleatorias"
   ]
  },
  {
   "cell_type": "code",
   "execution_count": 42,
   "metadata": {},
   "outputs": [],
   "source": [
    "import numpy as np\n",
    "S = {}\n",
    "R = {}\n",
    "Conjunta = {}\n",
    "EspacioMuestral = []\n",
    "for d1 in range(1,7):\n",
    "    for d2 in range(1,7):\n",
    "        EspacioMuestral.append((d1,d2))\n",
    "        suma = d1+d2\n",
    "        resta = abs(d1 - d2)\n",
    "        if suma not in S:\n",
    "            S[suma] = 0\n",
    "        if resta not in R:\n",
    "            R[resta] = 0\n",
    "        if (suma, resta) not in Conjunta:\n",
    "            Conjunta[(suma, resta)] = 0\n",
    "        S[suma] = S[suma] + 1\n",
    "        R[resta] = R[resta] + 1\n",
    "        Conjunta[(suma, resta)] = Conjunta[(suma, resta)] + 1"
   ]
  },
  {
   "cell_type": "markdown",
   "metadata": {},
   "source": [
    "¿ $P(D1, D2) = P(D1) P(D2)$ ? por que?"
   ]
  },
  {
   "cell_type": "markdown",
   "metadata": {},
   "source": [
    "### Importante: Por claridad no se dividio nada por 36. Para que sea formalemente correcto, todos los valores enteros de las V.A tienen que estar divididos por 36 "
   ]
  },
  {
   "cell_type": "code",
   "execution_count": 4,
   "metadata": {},
   "outputs": [
    {
     "name": "stdout",
     "output_type": "stream",
     "text": [
      "Espacio Muestral de d1 y d2:\n",
      "[(1, 1), (1, 2), (1, 3), (1, 4), (1, 5), (1, 6), (2, 1), (2, 2), (2, 3), (2, 4), (2, 5), (2, 6), (3, 1), (3, 2), (3, 3), (3, 4), (3, 5), (3, 6), (4, 1), (4, 2), (4, 3), (4, 4), (4, 5), (4, 6), (5, 1), (5, 2), (5, 3), (5, 4), (5, 5), (5, 6), (6, 1), (6, 2), (6, 3), (6, 4), (6, 5), (6, 6)]\n",
      "\n",
      "V.A. S:\n",
      "{2: 1, 3: 2, 4: 3, 5: 4, 6: 5, 7: 6, 8: 5, 9: 4, 10: 3, 11: 2, 12: 1}\n",
      "\n",
      "V.A. R:\n",
      "{0: 6, 1: 10, 2: 8, 3: 6, 4: 4, 5: 2}\n"
     ]
    }
   ],
   "source": [
    "print('Espacio Muestral de d1 y d2:')\n",
    "print(EspacioMuestral)\n",
    "print()\n",
    "print('V.A. S:')\n",
    "print(S)\n",
    "print()\n",
    "print('V.A. R:')\n",
    "print(R)"
   ]
  },
  {
   "cell_type": "code",
   "execution_count": 5,
   "metadata": {},
   "outputs": [
    {
     "name": "stdout",
     "output_type": "stream",
     "text": [
      "Dominio de S\n",
      "[2, 3, 4, 5, 6, 7, 8, 9, 10, 11, 12]\n",
      "\n",
      "Dominio de R\n",
      "[0, 1, 2, 3, 4, 5]\n"
     ]
    }
   ],
   "source": [
    "print('Dominio de S')\n",
    "print(list(S.keys()))\n",
    "print()\n",
    "print('Dominio de R')\n",
    "print(list(R.keys()))"
   ]
  },
  {
   "cell_type": "markdown",
   "metadata": {},
   "source": [
    "## Marginales"
   ]
  },
  {
   "cell_type": "code",
   "execution_count": 6,
   "metadata": {},
   "outputs": [],
   "source": [
    "from matplotlib import pyplot as plt"
   ]
  },
  {
   "cell_type": "code",
   "execution_count": 7,
   "metadata": {},
   "outputs": [
    {
     "data": {
      "image/png": "[encoded data removed]",
      "text/plain": [
       "<matplotlib.figure.Figure at 0x10d9e61d0>"
      ]
     },
     "metadata": {},
     "output_type": "display_data"
    }
   ],
   "source": [
    "plt.bar(list(S.keys()), list(S.values()))\n",
    "plt.show()"
   ]
  },
  {
   "cell_type": "code",
   "execution_count": 43,
   "metadata": {},
   "outputs": [
    {
     "data": {
      "image/png": "[encoded data removed]",
      "text/plain": [
       "<matplotlib.figure.Figure at 0x110fdbda0>"
      ]
     },
     "metadata": {},
     "output_type": "display_data"
    }
   ],
   "source": [
    "plt.bar(list(R.keys()), list(R.values()))\n",
    "plt.show()"
   ]
  },
  {
   "cell_type": "markdown",
   "metadata": {},
   "source": [
    "## Conjunta"
   ]
  },
  {
   "cell_type": "code",
   "execution_count": 44,
   "metadata": {},
   "outputs": [
    {
     "name": "stdout",
     "output_type": "stream",
     "text": [
      "   2, 3, 4, 5, 6, 7, 8, 9,10,11,12\n",
      "0 [1, 0, 1, 0, 1, 0, 1, 0, 1, 0, 1] 6\n",
      "1 [0, 2, 0, 2, 0, 2, 0, 2, 0, 2, 0] 10\n",
      "2 [0, 0, 2, 0, 2, 0, 2, 0, 2, 0, 0] 8\n",
      "3 [0, 0, 0, 2, 0, 2, 0, 2, 0, 0, 0] 6\n",
      "4 [0, 0, 0, 0, 2, 0, 2, 0, 0, 0, 0] 4\n",
      "5 [0, 0, 0, 0, 0, 2, 0, 0, 0, 0, 0] 2\n",
      "___________________________________\n",
      "  [1, 2, 3, 4, 5, 6, 5, 4, 3, 2, 1]\n"
     ]
    }
   ],
   "source": [
    "# print(list(S.keys()))\n",
    "print(' ', ','.join('{0:2.0f}'.format(e) for e in list(S.keys())))\n",
    "#print('___________________________________')\n",
    "for r in R.keys():\n",
    "    l = []\n",
    "    for s in S.keys():\n",
    "        if (s,r) in Conjunta:\n",
    "            l.append(Conjunta[(s,r)])\n",
    "        else:\n",
    "            l.append(0)\n",
    "    print(r, l, np.array(l).sum())\n",
    "print('___________________________________')\n",
    "print(' ',list(S.values()))"
   ]
  },
  {
   "cell_type": "markdown",
   "metadata": {},
   "source": [
    "$P(S=3, R = 1)$ = ?\n",
    "\n",
    "Cuales son los elementos?"
   ]
  },
  {
   "cell_type": "markdown",
   "metadata": {},
   "source": [
    "## Condicionales"
   ]
  },
  {
   "cell_type": "markdown",
   "metadata": {},
   "source": [
    "¿ $P(R,S) = P(R) P(S)$ ?"
   ]
  },
  {
   "cell_type": "markdown",
   "metadata": {},
   "source": [
    "$P(R | S) = \\large \\frac{P(R, S)}{P(S)}$"
   ]
  },
  {
   "cell_type": "markdown",
   "metadata": {},
   "source": [
    "Ejemplo\n",
    "\n",
    "$P(R | S=7) = \\large \\frac{P(R, S=7)}{P(S=7)}$"
   ]
  },
  {
   "cell_type": "code",
   "execution_count": 183,
   "metadata": {},
   "outputs": [
    {
     "data": {
      "text/plain": [
       "{(2, 0): 1,\n",
       " (3, 1): 2,\n",
       " (4, 0): 1,\n",
       " (4, 2): 2,\n",
       " (5, 1): 2,\n",
       " (5, 3): 2,\n",
       " (6, 0): 1,\n",
       " (6, 2): 2,\n",
       " (6, 4): 2,\n",
       " (7, 1): 2,\n",
       " (7, 3): 2,\n",
       " (7, 5): 2,\n",
       " (8, 0): 1,\n",
       " (8, 2): 2,\n",
       " (8, 4): 2,\n",
       " (9, 1): 2,\n",
       " (9, 3): 2,\n",
       " (10, 0): 1,\n",
       " (10, 2): 2,\n",
       " (11, 1): 2,\n",
       " (12, 0): 1}"
      ]
     },
     "execution_count": 183,
     "metadata": {},
     "output_type": "execute_result"
    }
   ],
   "source": [
    "Conjunta"
   ]
  },
  {
   "cell_type": "code",
   "execution_count": 46,
   "metadata": {},
   "outputs": [
    {
     "name": "stdout",
     "output_type": "stream",
     "text": [
      "{2: 0.6666666666666666, 0: 0.3333333333333333}\n"
     ]
    },
    {
     "data": {
      "image/png": "[encoded data removed]",
      "text/plain": [
       "<matplotlib.figure.Figure at 0x110d86908>"
      ]
     },
     "metadata": {},
     "output_type": "display_data"
    }
   ],
   "source": [
    "S0 = 4 # Condición\n",
    "P_cond = {}\n",
    "for k,v in Conjunta.items():\n",
    "    if k[0]==S0:\n",
    "        P_cond[k[1]] = (v/36)/(S[S0]/36)\n",
    "print(P_cond)\n",
    "plt.bar(list(P_cond.keys()), list(P_cond.values()))\n",
    "plt.show()"
   ]
  },
  {
   "cell_type": "markdown",
   "metadata": {},
   "source": [
    "## Likelihood"
   ]
  },
  {
   "cell_type": "markdown",
   "metadata": {},
   "source": [
    "### Ejemplo Maximum Likelihood\n",
    "\n",
    "Dado que observo que el modulo de la resta de los dos dados ($R$) es 1 y tengo que apostar por cuanto vale la suma, cual sería la mejor apuesta:  \n",
    "\n",
    "$P(R = 1|S = k)$"
   ]
  },
  {
   "cell_type": "code",
   "execution_count": 185,
   "metadata": {},
   "outputs": [
    {
     "data": {
      "text/plain": [
       "{3: 1.0, 5: 0.5, 7: 0.3333333333333333, 9: 0.5, 11: 1.0}"
      ]
     },
     "execution_count": 185,
     "metadata": {},
     "output_type": "execute_result"
    }
   ],
   "source": [
    "R0 = 1\n",
    "P_likelihood = {}\n",
    "for k,v in Conjunta.items():\n",
    "    if k[1]==R0:\n",
    "        P_likelihood[k[0]] = (v/36)/(S[k[0]]/36)\n",
    "P_likelihood"
   ]
  },
  {
   "cell_type": "markdown",
   "metadata": {},
   "source": [
    "# Bayes"
   ]
  },
  {
   "cell_type": "markdown",
   "metadata": {},
   "source": [
    "$ \\large P(S=k|X) = \\huge \\frac{P(X|S=k)P(S=K)}{\\sum_i{P(X|S_i)P(S_i)}}$"
   ]
  },
  {
   "cell_type": "markdown",
   "metadata": {},
   "source": [
    "$\\large Posteriori = \\huge \\frac{Likelihood \\quad x \\quad Priori}{Normalización}$"
   ]
  }
 ],
 "metadata": {
  "kernelspec": {
   "display_name": "Python 3",
   "language": "python",
   "name": "python3"
  },
  "language_info": {
   "codemirror_mode": {
    "name": "ipython",
    "version": 3
   },
   "file_extension": ".py",
   "mimetype": "text/x-python",
   "name": "python",
   "nbconvert_exporter": "python",
   "pygments_lexer": "ipython3",
   "version": "3.6.4"
  },
  "toc": {
   "colors": {
    "hover_highlight": "#DAA520",
    "navigate_num": "#000000",
    "navigate_text": "#333333",
    "running_highlight": "#FF0000",
    "selected_highlight": "#FFD700",
    "sidebar_border": "#EEEEEE",
    "wrapper_background": "#FFFFFF"
   },
   "moveMenuLeft": true,
   "nav_menu": {
    "height": "48px",
    "width": "252px"
   },
   "navigate_menu": true,
   "number_sections": true,
   "sideBar": false,
   "threshold": 4,
   "toc_cell": false,
   "toc_position": {
    "height": "269px",
    "left": "1px",
    "right": "20px",
    "top": "67px",
    "width": "133px"
   },
   "toc_section_display": "block",
   "toc_window_display": true,
   "widenNotebook": false
  }
 },
 "nbformat": 4,
 "nbformat_minor": 2
}
