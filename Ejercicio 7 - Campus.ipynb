{
 "cells": [
  {
   "cell_type": "code",
   "execution_count": 2,
   "metadata": {},
   "outputs": [],
   "source": [
    "import numpy as np\n",
    "from sklearn.naive_bayes import MultinomialNB\n",
    "from sklearn.feature_extraction.text import CountVectorizer"
   ]
  },
  {
   "cell_type": "code",
   "execution_count": 38,
   "metadata": {},
   "outputs": [],
   "source": [
    "# Cargamos los datos\n",
    "labels = np.array([True, False, False, True, False, False])\n",
    "vocabulary = np.array(['alargue', 'automóvil', 'casa', 'novedoso'])\n",
    "# Simulo que lee los mails y obtiene esta cantidad de palabras\n",
    "text_mails = [\"alargue alargue alargue automóvil automóvil automóvil casa novedoso novedoso novedoso novedoso novedoso novedoso\", \n",
    "        \"alargue automóvil automóvil automóvil automóvil casa casa casa casa casa casa casa novedoso\",\n",
    "        \"alargue automóvil automóvil automóvil automóvil casa casa casa novedoso\",\n",
    "        \"alargue alargue alargue alargue automóvil automóvil casa novedoso novedoso novedoso novedoso novedoso\",\n",
    "        \"alargue automóvil automóvil automóvil casa casa casa casa novedoso novedoso\",\n",
    "        \"alargue alargue automóvil automóvil automóvil automóvil casa casa casa casa casa novedoso\"]\n",
    "\n",
    "vectorizer = CountVectorizer()\n",
    "feature_matrix = vectorizer.fit_transform(text_mails)"
   ]
  },
  {
   "cell_type": "code",
   "execution_count": 39,
   "metadata": {},
   "outputs": [
    {
     "name": "stdout",
     "output_type": "stream",
     "text": [
      "Probabilidad SPAM: 0.3333333333333333\n",
      "Probabilidad SPAM: 0.6666666666666666\n"
     ]
    }
   ],
   "source": [
    "labels_spam = np.extract(labels == True, labels)\n",
    "labels_ham = np.extract(labels == False, labels)\n",
    "\n",
    "spam_probability = labels_spam.size / labels.size\n",
    "print(\"Probabilidad SPAM:\", spam_probability)\n",
    "\n",
    "ham_probability = labels_ham.size / labels.size\n",
    "print(\"Probabilidad SPAM:\", ham_probability)"
   ]
  },
  {
   "cell_type": "code",
   "execution_count": 40,
   "metadata": {},
   "outputs": [
    {
     "name": "stdout",
     "output_type": "stream",
     "text": [
      "Probabilidad 'alargue', sabiendo que es SPAM: 0.28\n",
      "Probabilidad 'novedoso', sabiendo que es HAM: 0.44\n"
     ]
    }
   ],
   "source": [
    "def conditional_probability(category, word):\n",
    "    if word not in vocabulary:\n",
    "        return 0\n",
    "    index = np.where(vocabulary == word)[0]\n",
    "    feature_matrix_category = feature_matrix[labels,:]\n",
    "    word_count = feature_matrix_category[:,index].sum()\n",
    "    total_count = feature_matrix_category.sum(axis=1).sum()\n",
    "    return (word_count / total_count)\n",
    "\n",
    "print(\"Probabilidad 'alargue', sabiendo que es SPAM:\", conditional_probability(True, 'alargue'))\n",
    "print(\"Probabilidad 'novedoso', sabiendo que es HAM:\", conditional_probability(False, 'novedoso'))"
   ]
  },
  {
   "cell_type": "code",
   "execution_count": 6,
   "metadata": {},
   "outputs": [],
   "source": [
    "naive_bayes = MultinomialNB(alpha=1, class_prior=[spam_probability, ham_probability], fit_prior=False)"
   ]
  },
  {
   "cell_type": "code",
   "execution_count": 41,
   "metadata": {},
   "outputs": [
    {
     "data": {
      "text/plain": [
       "MultinomialNB(alpha=1, class_prior=[0.3333333333333333, 0.6666666666666666],\n",
       "       fit_prior=False)"
      ]
     },
     "execution_count": 41,
     "metadata": {},
     "output_type": "execute_result"
    }
   ],
   "source": [
    "#Entrenamos el Modelo\n",
    "naive_bayes.fit(feature_matrix, labels)"
   ]
  },
  {
   "cell_type": "code",
   "execution_count": 42,
   "metadata": {},
   "outputs": [
    {
     "data": {
      "text/plain": [
       "1.0"
      ]
     },
     "execution_count": 42,
     "metadata": {},
     "output_type": "execute_result"
    }
   ],
   "source": [
    "#Testeamos el Modelo\n",
    "naive_bayes.score(feature_matrix, labels)"
   ]
  },
  {
   "cell_type": "code",
   "execution_count": 44,
   "metadata": {},
   "outputs": [
    {
     "name": "stdout",
     "output_type": "stream",
     "text": [
      "1.0\n",
      "Se predice que el mail anterior es SPAM\n"
     ]
    }
   ],
   "source": [
    "feature_matrix_test = np.matrix(((4, 1, 1, 5)))\n",
    "print(naive_bayes.score(feature_matrix_test, [True]))\n",
    "print(\"Se predice que el mail anterior es\", \"SPAM\" if naive_bayes.predict(feature_matrix_test) else \"HAM\")"
   ]
  },
  {
   "cell_type": "code",
   "execution_count": null,
   "metadata": {},
   "outputs": [],
   "source": []
  }
 ],
 "metadata": {
  "kernelspec": {
   "display_name": "Python 3",
   "language": "python",
   "name": "python3"
  },
  "language_info": {
   "codemirror_mode": {
    "name": "ipython",
    "version": 3
   },
   "file_extension": ".py",
   "mimetype": "text/x-python",
   "name": "python",
   "nbconvert_exporter": "python",
   "pygments_lexer": "ipython3",
   "version": "3.6.4"
  }
 },
 "nbformat": 4,
 "nbformat_minor": 2
}
